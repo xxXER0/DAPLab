{
 "cells": [
  {
   "cell_type": "code",
   "execution_count": 9,
   "id": "a09624ae",
   "metadata": {},
   "outputs": [
    {
     "name": "stdout",
     "output_type": "stream",
     "text": [
      "Enter 1st Number: 1\n",
      "Enter 2nd Number: 2\n",
      "3\n"
     ]
    }
   ],
   "source": [
    "#sum of Two Numbers\n",
    "\n",
    "import numpy as py\n",
    "\n",
    "a = float(input(\"Enter 1st Number: \"))\n",
    "b = float(input(\"Enter 2nd Number: \"))\n",
    "sum = a+b\n",
    "print(sum)"
   ]
  },
  {
   "cell_type": "code",
   "execution_count": 11,
   "id": "ad038047",
   "metadata": {},
   "outputs": [
    {
     "name": "stdout",
     "output_type": "stream",
     "text": [
      "Enter 1st Number: 1\n",
      "Enter nd2 Number: 2\n",
      "2.0\n"
     ]
    }
   ],
   "source": [
    "#MAximum Of two Numbers\n",
    "\n",
    "a = float(input(\"Enter 1st Number: \"))\n",
    "b = float(input(\"Enter 2nd Number: \"))\n",
    "max = max(a,b)\n",
    "print(max)"
   ]
  },
  {
   "cell_type": "code",
   "execution_count": 14,
   "id": "26cb257e",
   "metadata": {},
   "outputs": [
    {
     "name": "stdout",
     "output_type": "stream",
     "text": [
      "Enter a number5\n",
      "The factorial of 5 is 120\n"
     ]
    }
   ],
   "source": [
    "#Finding the factorial of a number\n",
    "num = int(input(\"Enter a number: \"))\n",
    "\n",
    "factorial = 1\n",
    "\n",
    "if num < 0:\n",
    "   print(\"Sorry, factorial does not exist for negative numbers\")\n",
    "elif num == 0:\n",
    "   print(1)\n",
    "else:\n",
    "   for i in range(1,num + 1):\n",
    "       factorial = factorial*i\n",
    "   print(\"The factorial of\",num,\"is\",factorial)\n"
   ]
  },
  {
   "cell_type": "code",
   "execution_count": 16,
   "id": "8f435490",
   "metadata": {},
   "outputs": [
    {
     "name": "stdout",
     "output_type": "stream",
     "text": [
      "Enter the Principal Amount: 2000\n",
      "Enter the Rate of Interest: 3.5\n",
      "Enter the Time: 2\n",
      "the Simple Interest is:  140.0\n"
     ]
    }
   ],
   "source": [
    "#Program to find the Simple Interest\n",
    "\n",
    "p = float(input(\"Enter the Principal Amount: \"))\n",
    "r = float(input(\"Enter the Rate of Interest: \"))\n",
    "t = float(input(\"Enter the Time in year: \"))\n",
    "si = (p*r*t)/100\n",
    "print(\"the Simple Interest is: \",si)"
   ]
  },
  {
   "cell_type": "code",
   "execution_count": 21,
   "id": "afb8abcb",
   "metadata": {},
   "outputs": [
    {
     "name": "stdout",
     "output_type": "stream",
     "text": [
      "Enter the Principal Amount: 10000\n",
      "Enter the Annual rate of interest: 5\n",
      "Enter the number of compounding periods in years: 2\n",
      "The Compound Interest is:  11024.0\n"
     ]
    }
   ],
   "source": [
    "#Program to find the Compound Interest\n",
    "\n",
    "p = float(input(\"Enter the Principal Amount: \"))\n",
    "i = float(input(\"Enter the Annual rate of interest: \"))\n",
    "n = float(input(\"Enter the number of compounding periods in years: \"))\n",
    "#P [(1 + i)n – 1]\n",
    "CI = p*(1 + i/100)**n - 1\n",
    "print(\"The Compound Interest is: \",CI)"
   ]
  },
  {
   "cell_type": "code",
   "execution_count": 24,
   "id": "1dce08c8",
   "metadata": {},
   "outputs": [
    {
     "name": "stdout",
     "output_type": "stream",
     "text": [
      "Enter a Number to check: 20\n",
      "The Number  20  is not an Armstrong Number\n"
     ]
    }
   ],
   "source": [
    "#Program to Check Armstrong Number\n",
    "\n",
    "num = int(input(\"Enter a Number to check: \"))\n",
    "n = len(str(num))\n",
    "sum = 0\n",
    "\n",
    "for digit in str(num):\n",
    "    sum += int(digit)**n\n",
    "\n",
    "if sum == num:\n",
    "    print(\"The Number \",num,\" is an Armstrong Number\")\n",
    "else:\n",
    "    print(\"The Number \",num,\" is not an Armstrong Number\")"
   ]
  },
  {
   "cell_type": "code",
   "execution_count": 25,
   "id": "01dc9ac3",
   "metadata": {},
   "outputs": [
    {
     "name": "stdout",
     "output_type": "stream",
     "text": [
      "Enter the Radius of the Circle: 5\n",
      "The area is:  78.53981633974483\n"
     ]
    }
   ],
   "source": [
    "#Program to find the Area of a Circle\n",
    "\n",
    "r = float(input(\"Enter the Radius of the Circle: \"))\n",
    "area = 3.141592653589793238*r*r\n",
    "print(\"The area is: \",area)"
   ]
  },
  {
   "cell_type": "code",
   "execution_count": 1,
   "id": "f042c75f",
   "metadata": {},
   "outputs": [
    {
     "name": "stdout",
     "output_type": "stream",
     "text": [
      "Enter the Lower bound: 90\n",
      "Enter the Upper bound: 100\n",
      "Prime numbers between 90 and 100 are:\n",
      "97\n"
     ]
    }
   ],
   "source": [
    "#program to display all the prime numbers within an interval\n",
    "\n",
    "lower = int(input(\"Enter the Lower bound: \"))\n",
    "upper = int(input(\"Enter the Upper bound: \"))\n",
    "\n",
    "print(\"Prime numbers between\", lower, \"and\", upper, \"are:\")\n",
    "\n",
    "for num in range(lower, upper + 1):\n",
    "       if num > 1:\n",
    "        for i in range(2, num):\n",
    "            if (num % i) == 0:\n",
    "                   break\n",
    "        else:\n",
    "            print(num)"
   ]
  },
  {
   "cell_type": "code",
   "execution_count": null,
   "id": "4091f776",
   "metadata": {},
   "outputs": [],
   "source": [
    "#program to check if a number is prime or not\n",
    "\n",
    "num = 11\n",
    "if num > 1:\n",
    "    for i in range(2, int(num/2)+1):\n",
    "\n",
    "        if (num % i) == 0:\n",
    "            print(num, \"is not a prime number\")\n",
    "            break\n",
    "        else:\n",
    "            print(num, \"is a prime number\")\n",
    "else:\n",
    "    print(num, \"is not a prime number\")\n"
   ]
  },
  {
   "cell_type": "code",
   "execution_count": 29,
   "id": "beada779",
   "metadata": {},
   "outputs": [
    {
     "name": "stdout",
     "output_type": "stream",
     "text": [
      "Enter a number to check: 14\n",
      "14 is not a Fibonacci number\n"
     ]
    }
   ],
   "source": [
    "#program to check a given number is fibonacci or not\n",
    "\n",
    "import math\n",
    "\n",
    "def is_perfect_square(num):\n",
    "    square_root = int(math.sqrt(num))\n",
    "    return square_root * square_root == num\n",
    "\n",
    "def is_fibonacci_number(n):\n",
    "    if n < 0:\n",
    "        return False\n",
    "    return is_perfect_square(5 * n * n + 4) or is_perfect_square(5 * n * n - 4)\n",
    "\n",
    "number = int(input(\"Enter a number to check: \"))\n",
    "if is_fibonacci_number(number):\n",
    "    print(f\"{number} is a Fibonacci number\")\n",
    "else:\n",
    "    print(f\"{number} is not a Fibonacci number\")\n",
    "\n"
   ]
  },
  {
   "cell_type": "code",
   "execution_count": 31,
   "id": "182c30d5",
   "metadata": {},
   "outputs": [
    {
     "name": "stdout",
     "output_type": "stream",
     "text": [
      "Enter the value of n: 5\n",
      "Enter the number for which you want to find the multiple: 3\n",
      "The {n}th multiple of {multiple_of} in the Fibonacci series is: {a}\n"
     ]
    }
   ],
   "source": [
    "#Program for to check if a given number is Fibonacci number\n",
    "\n",
    "def find_nth_multiple_in_fibonacci(n, multiple_of):\n",
    "    if n <= 0 or multiple_of <= 0:\n",
    "        return \"Invalid input. Please provide positive values for n and the multiple.\"\n",
    "\n",
    "    a, b = 0, 1\n",
    "    count = 0\n",
    "\n",
    "    while True:\n",
    "        if count % 3 == 0 and a % multiple_of == 0:\n",
    "            n -= 1\n",
    "\n",
    "        if n == 0:\n",
    "            return f\"The {n}th multiple of {multiple_of} in the Fibonacci series is: {a}\"\n",
    "\n",
    "        a, b = b, a + b\n",
    "        count += 1\n",
    "\n",
    "nth_value = int(input(\"Enter the value of n: \"))\n",
    "multiple_of_value = int(input(\"Enter the number for which you want to find the multiple: \"))\n",
    "\n",
    "result = find_nth_multiple_in_fibonacci(nth_value, multiple_of_value)\n",
    "print(result)\n"
   ]
  },
  {
   "cell_type": "code",
   "execution_count": 32,
   "id": "ba9e915c",
   "metadata": {},
   "outputs": [
    {
     "name": "stdout",
     "output_type": "stream",
     "text": [
      "Enter a character:  \n",
      "The ASCII value of     is:  32\n"
     ]
    }
   ],
   "source": [
    "#Program to print the ASCII value of a character\n",
    "\n",
    "character = input(\"Enter a character: \")\n",
    "ascii_value = ord(character)\n",
    "print(\"The ASCII value of \",character,\" is: \",ascii_value)\n"
   ]
  },
  {
   "cell_type": "code",
   "execution_count": 35,
   "id": "61417fce",
   "metadata": {},
   "outputs": [
    {
     "name": "stdout",
     "output_type": "stream",
     "text": [
      "Enter the value of n: 5\n",
      "The sum of squares of the first  5 natural numbers is:  55\n"
     ]
    }
   ],
   "source": [
    "#Program to find the sum of squares of first n natural numbers\n",
    "\n",
    "def sum_of_squares(n):\n",
    "    if n <= 0:\n",
    "        return \"Invalid input. Please provide a positive value for n.\"\n",
    "    result = (n * (n + 1) * (2 * n + 1)) // 6\n",
    "    return result\n",
    "\n",
    "n = int(input(\"Enter the value of n: \"))\n",
    "result = sum_of_squares(n)\n",
    "print(\"The sum of squares of the first \",n ,\"natural numbers is: \",result)\n"
   ]
  },
  {
   "cell_type": "code",
   "execution_count": 36,
   "id": "6b23a376",
   "metadata": {},
   "outputs": [
    {
     "name": "stdout",
     "output_type": "stream",
     "text": [
      "Enter the value of n: 5\n",
      "The sum of cubes of the first  5 natural numbers is:  225\n"
     ]
    }
   ],
   "source": [
    "#Program to find the sum of cubes of first n natural numbers\n",
    "\n",
    "def sum_of_cubes(n):\n",
    "    if n <= 0:\n",
    "        return \"Invalid input. Please provide a positive value for n.\"\n",
    "    result = (n * (n + 1) // 2) ** 2\n",
    "    return result\n",
    "\n",
    "n = int(input(\"Enter the value of n: \"))\n",
    "result = sum_of_cubes(n)\n",
    "\n",
    "print(\"The sum of cubes of the first \",n,\"natural numbers is: \",result)\n"
   ]
  },
  {
   "cell_type": "code",
   "execution_count": 2,
   "id": "cd066bdf",
   "metadata": {},
   "outputs": [
    {
     "name": "stdout",
     "output_type": "stream",
     "text": [
      "Enter the number of elements in the array: 4\n",
      "Enter element 1: 1\n",
      "Enter element 2: 2\n",
      "Enter element 3: 3\n",
      "Enter element 4: 4\n",
      "User input array: [1, 2, 3, 4]\n",
      "Sum of the elements is:  10\n"
     ]
    }
   ],
   "source": [
    "#Python Program to find sum of array\n",
    "\n",
    "n = int(input(\"Enter the number of elements in the array: \"))\n",
    "arr = []\n",
    "for i in range(n):\n",
    "    element = int(input(f\"Enter element {i + 1}: \"))\n",
    "    arr.append(element)\n",
    "    \n",
    "sum_arr = sum(arr)\n",
    "\n",
    "print(\"User input array:\", arr)\n",
    "print(\"Sum of the elements is: \",sum_arr)"
   ]
  },
  {
   "cell_type": "code",
   "execution_count": 3,
   "id": "3faefcf0",
   "metadata": {},
   "outputs": [
    {
     "name": "stdout",
     "output_type": "stream",
     "text": [
      "Enter the number of elements in the array: 3\n",
      "Enter element 1: 1\n",
      "Enter element 2: 2\n",
      "Enter element 3: 3\n",
      "User input array: [1, 2, 3]\n",
      "Sum of the elements is:  3\n"
     ]
    }
   ],
   "source": [
    "#Python Program to find largest element in an array\n",
    "\n",
    "n = int(input(\"Enter the number of elements in the array: \"))\n",
    "arr = []\n",
    "for i in range(n):\n",
    "    element = int(input(f\"Enter element {i + 1}: \"))\n",
    "    arr.append(element)\n",
    "    \n",
    "max_arr = max(arr)\n",
    "\n",
    "print(\"User input array:\", arr)\n",
    "print(\"Largest element is: \",max_arr)"
   ]
  },
  {
   "cell_type": "code",
   "execution_count": 7,
   "id": "de2a3366",
   "metadata": {},
   "outputs": [
    {
     "name": "stdout",
     "output_type": "stream",
     "text": [
      "Enter the number of elements in the array: 4\n",
      "Enter element 1: 1\n",
      "Enter element 2: 2\n",
      "Enter element 3: 3\n",
      "Enter element 4: 4\n",
      "Enter the number of elements to rotate: 2\n",
      "Original Array is: [1, 2, 3, 4]\n",
      "Rotated Array is: [3, 4, 1, 2]\n"
     ]
    }
   ],
   "source": [
    "#python program to rotate an array\n",
    "\n",
    "def rotate_array(arr, d):\n",
    "    d = d % len(arr)\n",
    "    first = arr[:d]\n",
    "    second = arr[d:]\n",
    "    result = second + first\n",
    "    return result\n",
    "\n",
    "n = int(input(\"Enter the number of elements in the array: \"))\n",
    "arr = []\n",
    "for i in range(n):\n",
    "    element = int(input(f\"Enter element {i + 1}: \"))\n",
    "    arr.append(element)\n",
    "\n",
    "d = int(input(\"Enter the number of elements to rotate: \"))\n",
    "\n",
    "if d > len(arr):\n",
    "    print(\"Invalid Value! Enter a value less than or equal to \", len(arr))\n",
    "else:\n",
    "    print(\"Original Array is:\", arr)\n",
    "    print(\"Rotated Array is:\", rotate_array(arr, d))\n"
   ]
  },
  {
   "cell_type": "code",
   "execution_count": 8,
   "id": "42a74cc1",
   "metadata": {},
   "outputs": [
    {
     "name": "stdout",
     "output_type": "stream",
     "text": [
      "Enter the number of elements in the array: 4\n",
      "Enter element 1: 1\n",
      "Enter element 2: 2\n",
      "Enter element 3: 3\n",
      "Enter element 4: 4\n",
      "Enter the number of elements to rotate: 2\n",
      "Original Array is: [1, 2, 3, 4]\n",
      "Rotated Array is: [3, 4, 1, 2]\n",
      "Reversed Array is: [1, 2, 3, 4]\n"
     ]
    }
   ],
   "source": [
    "#Python Program for Reversal algorithm for array rotation\n",
    "\n",
    "def reverse_rotate_array(arr, d):\n",
    "    d = d % len(arr)\n",
    "    first = arr[-d:]\n",
    "    second = arr[:-d]\n",
    "    result = first + second\n",
    "    return result\n",
    "\n",
    "n = int(input(\"Enter the number of elements in the array: \"))\n",
    "arr = []\n",
    "for i in range(n):\n",
    "    element = int(input(f\"Enter element {i + 1}: \"))\n",
    "    arr.append(element)\n",
    "\n",
    "d = int(input(\"Enter the number of elements to rotate: \"))\n",
    "\n",
    "if d > len(arr):\n",
    "    print(\"Invalid Value! Enter a value less than or equal to \", len(arr))\n",
    "else:\n",
    "    print(\"Original Array is:\", arr)\n",
    "    rotated_array = rotate_array(arr, d)\n",
    "    print(\"Rotated Array is:\", rotated_array)\n",
    "    reversed_array = reverse_rotate_array(rotated_array, d)\n",
    "    print(\"Reversed Array is:\", reversed_array)"
   ]
  },
  {
   "cell_type": "code",
   "execution_count": 1,
   "id": "2871191e",
   "metadata": {},
   "outputs": [
    {
     "name": "stdout",
     "output_type": "stream",
     "text": [
      "Enter the number of elements in the array: 4\n",
      "Enter element 1: 1\n",
      "Enter element 2: 2\n",
      "Enter element 3: 3\n",
      "Enter element 4: 4\n",
      "Enter the number of elements to rotate: 2\n",
      "Original Array is: [1, 2, 3, 4]\n",
      "splitted and added Array is: [3, 4, 1, 2]\n"
     ]
    }
   ],
   "source": [
    "#python program to split the array and add the first part to the last\n",
    "\n",
    "def split_array(arr, d):\n",
    "    first = arr[:d]\n",
    "    second = arr[d:]\n",
    "    result = second + first\n",
    "    return result\n",
    "\n",
    "n = int(input(\"Enter the number of elements in the array: \"))\n",
    "arr = []\n",
    "for i in range(n):\n",
    "    element = int(input(f\"Enter element {i + 1}: \"))\n",
    "    arr.append(element)\n",
    "\n",
    "d = int(input(\"Enter the number of elements to split: \"))\n",
    "\n",
    "if d < len(arr):\n",
    "    print(\"Original Array is:\", arr)\n",
    "    print(\"splitted and added Array is:\", split_array(arr, d))\n",
    "else:\n",
    "    print(\"Invalid Value! Enter a value less than \", len(arr))"
   ]
  },
  {
   "cell_type": "code",
   "execution_count": 2,
   "id": "47f91caa",
   "metadata": {},
   "outputs": [
    {
     "name": "stdout",
     "output_type": "stream",
     "text": [
      "Enter the divisor: 4\n",
      "Enter the size or length of the array: 6\n",
      "Enter element 1: 1\n",
      "Enter element 2: 2\n",
      "Enter element 3: 3\n",
      "Enter element 4: 4\n",
      "Enter element 5: 5\n",
      "Enter element 6: 6\n",
      "Remainder of array multiplication divided by  4  is:  0\n"
     ]
    }
   ],
   "source": [
    "#Python Program for Find reminder of array multiplication divided by n\n",
    "\n",
    "def array_multiplication_remainder(arr, n):\n",
    "    result = 1\n",
    "    for element in arr:\n",
    "        result = (result * element) % n\n",
    "    return result\n",
    "\n",
    "n = int(input(\"Enter the divisor: \"))\n",
    "array_size = int(input(\"Enter the size or length of the array: \"))\n",
    "arr = []\n",
    "\n",
    "for i in range(array_size):\n",
    "    element = int(input(f\"Enter element {i + 1}: \"))\n",
    "    arr.append(element)\n",
    "\n",
    "remainder = array_multiplication_remainder(arr, n)\n",
    "\n",
    "print(\"Remainder of array multiplication divided by \", n ,\" is: \", remainder)\n"
   ]
  },
  {
   "cell_type": "code",
   "execution_count": 4,
   "id": "6ae41cee",
   "metadata": {},
   "outputs": [
    {
     "name": "stdout",
     "output_type": "stream",
     "text": [
      "Enter the size or length of the array: 4\n",
      "Enter element 1: 1\n",
      "Enter element 2: 2\n",
      "Enter element 3: 3\n",
      "Enter element 4: 4\n",
      "The given array is monotonic.\n"
     ]
    }
   ],
   "source": [
    "#Python Program to check if given array is Monotonic\n",
    "\n",
    "def isMonotonic(arr):\n",
    "    increasing = True\n",
    "    decreasing = True\n",
    "\n",
    "    for i in range(1, len(arr)):\n",
    "        if arr[i] > arr[i - 1]:\n",
    "            decreasing = False\n",
    "        elif arr[i] < arr[i - 1]:\n",
    "            increasing = False\n",
    "\n",
    "    return increasing or decreasing\n",
    "\n",
    "n = int(input(\"Enter the size or length of the array: \"))\n",
    "arr = []\n",
    "\n",
    "for i in range(n):\n",
    "    element = int(input(f\"Enter element {i + 1}: \"))\n",
    "    arr.append(element)\n",
    "\n",
    "monotonic_check = isMonotonic(arr)\n",
    "\n",
    "if monotonic_check:\n",
    "    print(\"The given array is monotonic.\")\n",
    "else:\n",
    "    print(\"The given array is not monotonic.\")\n"
   ]
  },
  {
   "cell_type": "code",
   "execution_count": null,
   "id": "0a5b68c5",
   "metadata": {},
   "outputs": [],
   "source": []
  },
  {
   "cell_type": "code",
   "execution_count": null,
   "id": "fd69d1d1",
   "metadata": {},
   "outputs": [],
   "source": []
  }
 ],
 "metadata": {
  "kernelspec": {
   "display_name": "Python 3 (ipykernel)",
   "language": "python",
   "name": "python3"
  },
  "language_info": {
   "codemirror_mode": {
    "name": "ipython",
    "version": 3
   },
   "file_extension": ".py",
   "mimetype": "text/x-python",
   "name": "python",
   "nbconvert_exporter": "python",
   "pygments_lexer": "ipython3",
   "version": "3.10.9"
  }
 },
 "nbformat": 4,
 "nbformat_minor": 5
}
