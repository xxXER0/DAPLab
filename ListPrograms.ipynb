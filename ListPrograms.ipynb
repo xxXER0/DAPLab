{
 "cells": [
  {
   "cell_type": "code",
   "execution_count": 3,
   "id": "52fc7920",
   "metadata": {},
   "outputs": [
    {
     "name": "stdout",
     "output_type": "stream",
     "text": [
      "Enter the size or length of the list: 5\n",
      "Enter element 1: 1\n",
      "Enter element 2: 2\n",
      "Enter element 3: 3\n",
      "Enter element 4: 4\n",
      "Enter element 5: 5\n",
      "The entered list is:  [1, 2, 3, 4, 5]\n",
      "The interchanged list is:  [5, 2, 3, 4, 1]\n"
     ]
    }
   ],
   "source": [
    "#1. Python program to interchange first and last elements in a list\n",
    "\n",
    "def interchangeList(myList):\n",
    "    size = len(myList) \n",
    "    temp = myList[0]\n",
    "    myList[0] = myList[size - 1]\n",
    "    myList[size - 1] = temp\n",
    "    return myList\n",
    "      \n",
    "list_size = int(input(\"Enter the size or length of the list: \"))\n",
    "myList = []\n",
    "\n",
    "for i in range(list_size):\n",
    "    element = int(input(f\"Enter element {i + 1}: \"))\n",
    "    myList.append(element)\n",
    "    \n",
    "print(\"The entered list is: \",myList)\n",
    "print(\"The interchanged list is: \",interchangeList(myList))\n"
   ]
  },
  {
   "cell_type": "code",
   "execution_count": 5,
   "id": "77914291",
   "metadata": {},
   "outputs": [
    {
     "name": "stdout",
     "output_type": "stream",
     "text": [
      "Enter the size of the list: 5\n",
      "Enter element 1: 1\n",
      "Enter element 2: 2\n",
      "Enter element 3: 3\n",
      "Enter element 4: 4\n",
      "Enter element 5: 5\n",
      "The input List is:  [1, 2, 3, 4, 5]\n",
      "Enter the position 1: 2\n",
      "Enter the position 2: 4\n",
      "[1, 4, 3, 2, 5]\n"
     ]
    }
   ],
   "source": [
    "#2. Python program to swap two elements in a list\n",
    "\n",
    "def swapPositions(lis, pos1, pos2):\n",
    "    temp=lis[pos1]\n",
    "    lis[pos1]=lis[pos2]\n",
    "    lis[pos2]=temp\n",
    "    return lis\n",
    "\n",
    "listSize = int(input(\"Enter the size of the list: \"))\n",
    "List = []\n",
    "for i in range(listSize):\n",
    "    element = int(input(f\"Enter element {i + 1}: \"))\n",
    "    List.append(element)\n",
    "    \n",
    "print(\"The input List is: \",List)\n",
    "    \n",
    "pos1 = int(input(\"Enter the position 1: \")) \n",
    "pos2 = int(input(\"Enter the position 2: \"))\n",
    "\n",
    "print(swapPositions(List, pos1-1, pos2-1))\n"
   ]
  },
  {
   "cell_type": "code",
   "execution_count": 10,
   "id": "d89fa120",
   "metadata": {},
   "outputs": [
    {
     "name": "stdout",
     "output_type": "stream",
     "text": [
      "Enter how many elements you want to enter--->\n",
      "enter -1 to stop the entering of elements-->\n",
      "Enter the string: \n",
      "1\n",
      "Enter the string: \n",
      "2\n",
      "Enter the string: \n",
      "3\n",
      "Enter the string: \n",
      "4\n",
      "Enter the string: \n",
      "5\n",
      "Enter the string: \n",
      "6\n",
      "Enter the string: \n",
      "7\n",
      "Enter the string: \n",
      "-1\n",
      "The length of the list is:  7\n"
     ]
    }
   ],
   "source": [
    "#3. Python | Ways to find length of list\n",
    "\n",
    "print(\"Enter how many elements you want to enter--->\")\n",
    "print(\"Enter -1 to stop the entering of elements-->\")\n",
    "\n",
    "#this loop will take infinite value until you type -1 to break the loop\n",
    "data = []\n",
    "while True:\n",
    "    print(\"Enter the string: \")\n",
    "    the_input = input()\n",
    "    if the_input == '-1':\n",
    "        break\n",
    "    data.append(the_input)\n",
    "    \n",
    "print(\"The length of the list is: \",len(data))"
   ]
  },
  {
   "cell_type": "code",
   "execution_count": 5,
   "id": "0950a6a6",
   "metadata": {},
   "outputs": [
    {
     "name": "stdout",
     "output_type": "stream",
     "text": [
      "Enter the size of the list: 5\n",
      "Enter element 1: 1\n",
      "Enter element 2: 2\n",
      "Enter element 3: 3\n",
      "Enter element 4: 4\n",
      "Enter element 5: 5\n",
      "Enter the value to check7\n",
      "7  does not exist in the list\n",
      "The elements are:  [1, 2, 3, 4, 5]\n"
     ]
    }
   ],
   "source": [
    "#4. Python | Ways to check if element exists in list\n",
    "\n",
    "listSize = int(input(\"Enter the size of the list: \"))\n",
    "newList=[]\n",
    "for i in range(listSize):\n",
    "    element = int(input(f\"Enter element {i + 1}: \"))\n",
    "    newList.append(element)\n",
    "\n",
    "i=int(input(\"Enter the value to check\"))\n",
    "\n",
    "if i in newList: \n",
    "    print(i,\" exist in the list\")\n",
    "else: \n",
    "    print(i,\" does not exist in the list\")\n",
    "    \n",
    "print(\"The elements are: \",newList)\n"
   ]
  },
  {
   "cell_type": "code",
   "execution_count": 8,
   "id": "36e50967",
   "metadata": {},
   "outputs": [
    {
     "name": "stdout",
     "output_type": "stream",
     "text": [
      "Enter the size of the list: 5\n",
      "Enter element 1: 1\n",
      "Enter element 2: 2\n",
      "Enter element 3: 3\n",
      "Enter element 4: 4\n",
      "Enter element 5: 5\n",
      "The List before clearing is:  [1, 2, 3, 4, 5]\n",
      "The List after Clearing is:  []\n"
     ]
    }
   ],
   "source": [
    "#5. Different ways to clear a list in Python\n",
    "\n",
    "#1\n",
    "listSize = int(input(\"Enter the size of the list: \"))\n",
    "List = []\n",
    "for i in range(listSize):\n",
    "    elements = int(input(f\"Enter element {i + 1}: \"))\n",
    "    List.append(elements)\n",
    "print(\"The List before clearing is: \",List)\n",
    "\n",
    "List.clear()\n",
    "print(\"The List after Clearing is: \",List)\n",
    "\n"
   ]
  },
  {
   "cell_type": "code",
   "execution_count": 11,
   "id": "a60ef519",
   "metadata": {},
   "outputs": [
    {
     "name": "stdout",
     "output_type": "stream",
     "text": [
      "Enter the size of the list: 4\n",
      "Enter element 1: 1\n",
      "Enter element 2: 2\n",
      "Enter element 3: 3\n",
      "Enter element 4: 4\n",
      "The List before reversing is:  [1, 2, 3, 4]\n",
      "The List after reversing is:  [4, 3, 2, 1]\n"
     ]
    }
   ],
   "source": [
    "#6. Python | Reversing a List\n",
    "\n",
    "listSize = int(input(\"Enter the size of the list: \"))\n",
    "List = []\n",
    "for i in range(listSize):\n",
    "    elements = int(input(f\"Enter element {i + 1}: \"))\n",
    "    List.append(elements)\n",
    "print(\"The List before reversing is: \",List)\n",
    "List.reverse()\n",
    "print(\"The List after reversing is: \",List)"
   ]
  },
  {
   "cell_type": "code",
   "execution_count": 13,
   "id": "fc7531ac",
   "metadata": {},
   "outputs": [
    {
     "name": "stdout",
     "output_type": "stream",
     "text": [
      "Enter the size of the list: 5\n",
      "Enter element 1: 1\n",
      "Enter element 2: 2\n",
      "Enter element 3: 3\n",
      "Enter element 4: 4\n",
      "Enter element 5: 5\n",
      "The list is :  [1, 2, 3, 4, 5]\n",
      "The sum of the Elements in the List is:  15\n"
     ]
    }
   ],
   "source": [
    "#7. Python program to find sum of elements in list\n",
    "\n",
    "sum = 0\n",
    "listSize = int(input(\"Enter the size of the list: \"))\n",
    "List = []\n",
    "for i in range(listSize):\n",
    "    elements = int(input(f\"Enter element {i + 1}: \"))\n",
    "    List.append(elements)\n",
    "    sum = sum + elements\n",
    "print(\"The list is : \",List)   \n",
    "print(\"The sum of the Elements in the List is: \",sum)"
   ]
  },
  {
   "cell_type": "code",
   "execution_count": 14,
   "id": "371c8b21",
   "metadata": {},
   "outputs": [
    {
     "name": "stdout",
     "output_type": "stream",
     "text": [
      "Enter the size of the list: 4\n",
      "Enter element 1: 1\n",
      "Enter element 2: 2\n",
      "Enter element 3: 3\n",
      "Enter element 4: 4\n",
      "The list is :  [1, 2, 3, 4]\n",
      "The sum of the Elements in the List is:  24\n"
     ]
    }
   ],
   "source": [
    "#8. Python | Multiply all numbers in the list\n",
    "\n",
    "mul = 1\n",
    "listSize = int(input(\"Enter the size of the list: \"))\n",
    "List = []\n",
    "for i in range(listSize):\n",
    "    elements = int(input(f\"Enter element {i + 1}: \"))\n",
    "    List.append(elements)\n",
    "    mul = mul * elements\n",
    "print(\"The list is : \",List)   \n",
    "print(\"The sum of the Elements in the List is: \",mul)"
   ]
  },
  {
   "cell_type": "code",
   "execution_count": 38,
   "id": "1146e837",
   "metadata": {},
   "outputs": [
    {
     "name": "stdout",
     "output_type": "stream",
     "text": [
      "Enter the size of the list: 3\n",
      "Enter element 1: 3\n",
      "Enter element 2: 1\n",
      "Enter element 3: 2\n",
      "The list is :  [3, 1, 2]\n",
      "The sum of the Elements in the List is:  1\n"
     ]
    }
   ],
   "source": [
    "#9. Python program to find smallest number in a list\n",
    "\n",
    "listSize = int(input(\"Enter the size of the list: \"))\n",
    "List = []\n",
    "for i in range(listSize):\n",
    "    elements = int(input(f\"Enter element {i + 1}: \"))\n",
    "    List.append(elements)\n",
    "    \n",
    "print(\"The list is : \",List) \n",
    "\n",
    "List.sort()  \n",
    "print(\"The sum of the Elements in the List is: \",List[0])"
   ]
  },
  {
   "cell_type": "code",
   "execution_count": 41,
   "id": "23a96df4",
   "metadata": {},
   "outputs": [
    {
     "name": "stdout",
     "output_type": "stream",
     "text": [
      "Enter the size of the list: 3\n",
      "Enter element 1: 1\n",
      "Enter element 2: 2\n",
      "Enter element 3: 3\n",
      "The list is :  [1, 2, 3]\n",
      "The largest Element in the List is:  3\n"
     ]
    }
   ],
   "source": [
    "#10. Python program to find largest number in a list\n",
    "\n",
    "listSize = int(input(\"Enter the size of the list: \"))\n",
    "List = []\n",
    "for i in range(listSize):\n",
    "    elements = int(input(f\"Enter element {i + 1}: \"))\n",
    "    List.append(elements)\n",
    "    \n",
    "print(\"The list is : \",List) \n",
    "\n",
    "max_list = max (List) \n",
    "print(\"The largest Element in the List is: \",max_list)"
   ]
  },
  {
   "cell_type": "code",
   "execution_count": 42,
   "id": "8a7e4312",
   "metadata": {},
   "outputs": [
    {
     "name": "stdout",
     "output_type": "stream",
     "text": [
      "Enter the size of the list: 3\n",
      "Enter element 1: 1\n",
      "Enter element 2: 2\n",
      "Enter element 3: 3\n",
      "The list is :  [1, 2, 3]\n",
      "The Second largest Element in the List is:  2\n"
     ]
    }
   ],
   "source": [
    "#11. Python program to find second largest number in a list\n",
    "\n",
    "listSize = int(input(\"Enter the size of the list: \"))\n",
    "List = []\n",
    "for i in range(listSize):\n",
    "    elements = int(input(f\"Enter element {i + 1}: \"))\n",
    "    List.append(elements)\n",
    "    \n",
    "print(\"The list is : \",List) \n",
    "\n",
    "List.remove(max(List))  \n",
    "print(\"The Second largest Element in the List is: \",max(List))"
   ]
  },
  {
   "cell_type": "code",
   "execution_count": 50,
   "id": "fb5e8feb",
   "metadata": {},
   "outputs": [
    {
     "name": "stdout",
     "output_type": "stream",
     "text": [
      "Enter the size of the list: 4\n",
      "Enter element 1: 1\n",
      "Enter element 2: 2\n",
      "Enter element 3: 3\n",
      "Enter element 4: 4\n",
      "Enter how many largest elements you need from the list: 3\n",
      "The N largest elements from the list is:  [4, 3, 2]\n"
     ]
    }
   ],
   "source": [
    "#12. Python program to find N largest elements from a list\n",
    "\n",
    "def Nmaxelements(List, N):\n",
    "    final_list = []\n",
    "\n",
    "    for i in range(0, N):\n",
    "        max1 = 0\n",
    "\n",
    "        for j in range(len(List)):\n",
    "            if List[j] > max1:\n",
    "                max1 = List[j]\n",
    "\n",
    "        List.remove(max1)\n",
    "        final_list.append(max1)\n",
    "\n",
    "    return final_list\n",
    "\n",
    "\n",
    "\n",
    "listSize = int(input(\"Enter the size of the list: \"))\n",
    "List = []\n",
    "for i in range(listSize):\n",
    "    elements = int(input(f\"Enter element {i + 1}: \"))\n",
    "    List.append(elements)\n",
    "    \n",
    "N = int(input(\"Enter how many largest elements you need from the list: \"))\n",
    "\n",
    "print(\"The N largest elements from the list is: \",Nmaxelements(List, N))\n"
   ]
  },
  {
   "cell_type": "code",
   "execution_count": 55,
   "id": "c7d342ee",
   "metadata": {},
   "outputs": [
    {
     "name": "stdout",
     "output_type": "stream",
     "text": [
      "Enter the size of the list: 4\n",
      "Enter element 1: 1\n",
      "Enter element 2: 2\n",
      "Enter element 3: 3\n",
      "Enter element 4: 4\n",
      "The list is :  [1, 2, 3, 4]\n",
      "The Even numbers in the list is/are: \n",
      "2 4 "
     ]
    }
   ],
   "source": [
    "#13. Python program to print even numbers in a list\n",
    "\n",
    "listSize = int(input(\"Enter the size of the list: \"))\n",
    "list = []\n",
    "for i in range(listSize):\n",
    "    elements = int(input(f\"Enter element {i + 1}: \"))\n",
    "    list.append(elements)\n",
    "print(\"The list is : \",list) \n",
    "\n",
    "print(\"The Even numbers in the list is/are: \")\n",
    "for num in list:\n",
    "    if num % 2 == 0:\n",
    "        print(num, end=\" \")\n"
   ]
  },
  {
   "cell_type": "code",
   "execution_count": 56,
   "id": "5f2ee7da",
   "metadata": {},
   "outputs": [
    {
     "name": "stdout",
     "output_type": "stream",
     "text": [
      "Enter the size of the list: 4\n",
      "Enter element 1: 1\n",
      "Enter element 2: 2\n",
      "Enter element 3: 3\n",
      "Enter element 4: 4\n",
      "The list is :  [1, 2, 3, 4]\n",
      "The odd numbers in the list is/are: \n",
      "1 3 "
     ]
    }
   ],
   "source": [
    "#13. Python program to print odd numbers in a list\n",
    "\n",
    "listSize = int(input(\"Enter the size of the list: \"))\n",
    "list = []\n",
    "for i in range(listSize):\n",
    "    elements = int(input(f\"Enter element {i + 1}: \"))\n",
    "    list.append(elements)\n",
    "print(\"The list is : \",list) \n",
    "\n",
    "print(\"The odd numbers in the list is/are: \")\n",
    "for num in list:\n",
    "    if num % 2 != 0:\n",
    "        print(num, end=\" \")"
   ]
  },
  {
   "cell_type": "code",
   "execution_count": 58,
   "id": "4ebce432",
   "metadata": {},
   "outputs": [
    {
     "name": "stdout",
     "output_type": "stream",
     "text": [
      "Enter the Lower Range: 20\n",
      "Enter the Upper Range: 30\n",
      "Even numbers between 20 and 30  range are:\n",
      "[20, 22, 24, 26, 28, 30]\n"
     ]
    }
   ],
   "source": [
    "#15. Python program to print all even numbers in a range\n",
    "\n",
    "lower = int(input(\"Enter the Lower Range: \"))\n",
    "upper = int(input(\"Enter the Upper Range: \"))\n",
    "\n",
    "list = []\n",
    "\n",
    "print(\"Even numbers between\", lower, \"and\", upper, \" range are:\")\n",
    "\n",
    "for num in range(lower, upper + 1):\n",
    "       if (num%2) == 0:\n",
    "            list.append(num)\n",
    "        \n",
    "print(list)               \n"
   ]
  },
  {
   "cell_type": "code",
   "execution_count": 59,
   "id": "a5d80411",
   "metadata": {},
   "outputs": [
    {
     "name": "stdout",
     "output_type": "stream",
     "text": [
      "Enter the Lower Range: 20\n",
      "Enter the Upper Range: 30\n",
      "odd numbers between 20 and 30  range are:\n",
      "[21, 23, 25, 27, 29]\n"
     ]
    }
   ],
   "source": [
    "#16. Python program to print all odd numbers in a range\n",
    "\n",
    "lower = int(input(\"Enter the Lower Range: \"))\n",
    "upper = int(input(\"Enter the Upper Range: \"))\n",
    "\n",
    "list = []\n",
    "\n",
    "print(\"odd numbers between\", lower, \"and\", upper, \" range are:\")\n",
    "\n",
    "for num in range(lower, upper + 1):\n",
    "       if (num%2) != 0:\n",
    "            list.append(num)\n",
    "        \n",
    "print(list) "
   ]
  },
  {
   "cell_type": "code",
   "execution_count": 60,
   "id": "3a80835d",
   "metadata": {},
   "outputs": [
    {
     "name": "stdout",
     "output_type": "stream",
     "text": [
      "Enter the size of the list: 4\n",
      "Enter element 1: 1\n",
      "Enter element 2: -1\n",
      "Enter element 3: 3\n",
      "Enter element 4: 4\n",
      "The list is :  [1, -1, 3, 4]\n",
      "The positive numbers in the list is/are: \n",
      "1 3 4 "
     ]
    }
   ],
   "source": [
    "#17. Python program to print positive numbers in a list\n",
    "\n",
    "listSize = int(input(\"Enter the size of the list: \"))\n",
    "list = []\n",
    "for i in range(listSize):\n",
    "    elements = int(input(f\"Enter element {i + 1}: \"))\n",
    "    list.append(elements)\n",
    "print(\"The list is : \",list) \n",
    "\n",
    "print(\"The positive numbers in the list is/are: \")\n",
    "for num in list:\n",
    "    if num > 0 :\n",
    "        print(num, end=\" \")"
   ]
  },
  {
   "cell_type": "code",
   "execution_count": 61,
   "id": "5d64a2f9",
   "metadata": {},
   "outputs": [
    {
     "name": "stdout",
     "output_type": "stream",
     "text": [
      "Enter the size of the list: 4\n",
      "Enter element 1: -1\n",
      "Enter element 2: 2\n",
      "Enter element 3: 3\n",
      "Enter element 4: 4\n",
      "The list is :  [-1, 2, 3, 4]\n",
      "The positive numbers in the list is/are: \n",
      "-1 "
     ]
    }
   ],
   "source": [
    "#18. Python program to print negative numbers in a list\n",
    "\n",
    "listSize = int(input(\"Enter the size of the list: \"))\n",
    "list = []\n",
    "for i in range(listSize):\n",
    "    elements = int(input(f\"Enter element {i + 1}: \"))\n",
    "    list.append(elements)\n",
    "print(\"The list is : \",list) \n",
    "\n",
    "print(\"The Negative numbers in the list is/are: \")\n",
    "for num in list:\n",
    "    if num < 0 :\n",
    "        print(num, end=\" \")"
   ]
  },
  {
   "cell_type": "code",
   "execution_count": 62,
   "id": "6717cd44",
   "metadata": {},
   "outputs": [
    {
     "name": "stdout",
     "output_type": "stream",
     "text": [
      "Enter the Lower Range: -10\n",
      "Enter the Upper Range: 10\n",
      "positive numbers between -10 and 10  range are:\n",
      "[1, 2, 3, 4, 5, 6, 7, 8, 9, 10]\n"
     ]
    }
   ],
   "source": [
    "#19. Python program to print all positive numbers in a range\n",
    "\n",
    "lower = int(input(\"Enter the Lower Range: \"))\n",
    "upper = int(input(\"Enter the Upper Range: \"))\n",
    "\n",
    "list = []\n",
    "\n",
    "print(\"positive numbers between\", lower, \"and\", upper, \" range are:\")\n",
    "\n",
    "for num in range(lower, upper + 1):\n",
    "       if num > 0:\n",
    "            list.append(num)\n",
    "        \n",
    "print(list) "
   ]
  },
  {
   "cell_type": "code",
   "execution_count": 63,
   "id": "7eb60783",
   "metadata": {},
   "outputs": [
    {
     "name": "stdout",
     "output_type": "stream",
     "text": [
      "Enter the Lower Range: -10\n",
      "Enter the Upper Range: 10\n",
      "positive numbers between -10 and 10  range are:\n",
      "[-10, -9, -8, -7, -6, -5, -4, -3, -2, -1]\n"
     ]
    }
   ],
   "source": [
    "#20. Python program to print all negative numbers in a range\n",
    "\n",
    "lower = int(input(\"Enter the Lower Range: \"))\n",
    "upper = int(input(\"Enter the Upper Range: \"))\n",
    "\n",
    "list = []\n",
    "\n",
    "print(\"positive numbers between\", lower, \"and\", upper, \" range are:\")\n",
    "\n",
    "for num in range(lower, upper + 1):\n",
    "       if num < 0:\n",
    "            list.append(num)\n",
    "        \n",
    "print(list)"
   ]
  },
  {
   "cell_type": "code",
   "execution_count": 64,
   "id": "22201aad",
   "metadata": {},
   "outputs": [
    {
     "name": "stdout",
     "output_type": "stream",
     "text": [
      "Enter the size of the list: 4\n",
      "Enter element 1: 1\n",
      "Enter element 2: 2\n",
      "Enter element 3: 3\n",
      "Enter element 4: 4\n",
      "The list is :  [1, 2, 3, 4]\n",
      "Enter the total number of elements you want  to remove: 2\n",
      "Enter 1 index of the element to remove: 3\n",
      "Enter 2 index of the element to remove: 2\n",
      "The indexes of the elements to remove is :  [3, 2]\n",
      "List after removal:  [1, 2]\n"
     ]
    }
   ],
   "source": [
    "#21. Remove multiple elements from a list in Python\n",
    "\n",
    "listSize = int(input(\"Enter the size of the list: \"))\n",
    "list = []\n",
    "for i in range(listSize):\n",
    "    elements = int(input(f\"Enter element {i + 1}: \"))\n",
    "    list.append(elements)\n",
    "print(\"The list is : \",list)\n",
    "\n",
    "N = int(input(\"Enter the total number of elements you want  to remove: \"))\n",
    "indices_to_remove = []\n",
    "for i in range(N):\n",
    "    elements = int(input(f\"Enter {i+1} index of the element to remove: \"))\n",
    "    indices_to_remove.append(elements)\n",
    "print(\"The indexes of the elements to remove is : \",indices_to_remove)\n",
    "\n",
    "list = [value for index, value in enumerate(list) if index not in indices_to_remove]\n",
    "\n",
    "print(\"List after removal: \", list)\n",
    "\n"
   ]
  },
  {
   "cell_type": "code",
   "execution_count": 66,
   "id": "53025ce8",
   "metadata": {},
   "outputs": [
    {
     "name": "stdout",
     "output_type": "stream",
     "text": [
      "Original list is : ['', 'name', '', '6', '9', '']\n",
      "Modified list is : ['name', '6', '9']\n"
     ]
    }
   ],
   "source": [
    "#22. Python – Remove empty List from List\n",
    "\n",
    "list = [\"\", \"name\", \"\", \"6\", \"9\", \"\"]\n",
    "\n",
    "print(\"Original list is : \" + str(list))\n",
    "\n",
    "while(\"\" in list):\n",
    "    list.remove(\"\")\n",
    "\n",
    "print(\"Modified list is : \" + str(list))\n"
   ]
  },
  {
   "cell_type": "code",
   "execution_count": 67,
   "id": "7873c6fa",
   "metadata": {},
   "outputs": [
    {
     "name": "stdout",
     "output_type": "stream",
     "text": [
      "Enter the size of the list: 4\n",
      "Enter element 1: 1\n",
      "Enter element 2: 2\n",
      "Enter element 3: 3\n",
      "Enter element 4: 4\n",
      "The original List is:  [1, 2, 3, 4]\n",
      "The cloned list is:  [1, 2, 3, 4]\n"
     ]
    }
   ],
   "source": [
    "#23. Python | Cloning or Copying a list\n",
    "\n",
    "import copy\n",
    "\n",
    "listSize = int(input(\"Enter the size of the list: \"))\n",
    "list = []\n",
    "for i in range(listSize):\n",
    "    elements = int(input(f\"Enter element {i + 1}: \"))\n",
    "    list.append(elements)\n",
    "print(\"The original List is: \",list)\n",
    "list2 = copy.copy(list)\n",
    "\n",
    "print(\"The cloned list is: \",list2)\n"
   ]
  },
  {
   "cell_type": "code",
   "execution_count": 70,
   "id": "a284dcd0",
   "metadata": {},
   "outputs": [
    {
     "name": "stdout",
     "output_type": "stream",
     "text": [
      "Enter the size of the list: 4\n",
      "Enter element 1: 1\n",
      "Enter element 2: 2\n",
      "Enter element 3: 3\n",
      "Enter element 4: 4\n",
      "Enter the element whose occurences you want to count: 5\n",
      "5 has occurred 0 times\n"
     ]
    }
   ],
   "source": [
    "#24. Python | Count occurrences of an element in a list\n",
    "\n",
    "def countX(list, x):\n",
    "    count = 0\n",
    "    for ele in list:\n",
    "        if (ele == x):\n",
    "            count = count + 1\n",
    "    return count\n",
    "\n",
    "listSize = int(input(\"Enter the size of the list: \"))\n",
    "list = []\n",
    "for i in range(listSize):\n",
    "    elements = int(input(f\"Enter element {i + 1}: \"))\n",
    "    list.append(elements)\n",
    "    \n",
    "x = int(input(\"Enter the element whose occurences you want to count: \"))\n",
    "print('{} has occurred {} times'.format(x,countX(list, x)))\n"
   ]
  },
  {
   "cell_type": "code",
   "execution_count": 78,
   "id": "61adee4e",
   "metadata": {},
   "outputs": [
    {
     "name": "stdout",
     "output_type": "stream",
     "text": [
      "The original list is:  [(), ('ram', '15', '8'), (), ('laxman', 'sita'), ('krishna', 'akbar', '45'), ('', ''), ()]\n",
      "The new list after removal of empty tuples is:  [('ram', '15', '8'), ('laxman', 'sita'), ('krishna', 'akbar', '45'), ('', '')]\n"
     ]
    }
   ],
   "source": [
    "#25. Python | Remove empty tuples from a list\n",
    "\n",
    "def Remove(tuples):\n",
    "    for i in tuples:\n",
    "        if(len(i) == 0):\n",
    "            tuples.remove(i)\n",
    "    return tuples\n",
    "\n",
    "tuples = [(), ('ram','15','8'), (), ('laxman', 'sita'), \n",
    "        ('krishna', 'akbar', '45'), ('',''),()]\n",
    "print(\"The original list is: \",tuples)\n",
    "print(\"The new list after removal of empty tuples is: \",Remove(tuples))\n"
   ]
  },
  {
   "cell_type": "code",
   "execution_count": 86,
   "id": "e73353a0",
   "metadata": {},
   "outputs": [
    {
     "name": "stdout",
     "output_type": "stream",
     "text": [
      "Enter the size of the list: 4\n",
      "Enter element 1: 1\n",
      "Enter element 2: 2\n",
      "Enter element 3: 3\n",
      "Enter element 4: 4\n",
      "The entered list is:  [1, 2, 3, 4]\n",
      "The elements which occurred more than once is/are:  []\n"
     ]
    }
   ],
   "source": [
    "#26. Python | Program to print duplicates from a list of integers\n",
    "\n",
    "listSize = int(input(\"Enter the size of the list: \"))\n",
    "list = []\n",
    "for i in range(listSize):\n",
    "    elements = int(input(f\"Enter element {i + 1}: \"))\n",
    "    list.append(elements)\n",
    "print(\"The entered list is: \",list)\n",
    "\n",
    "new = [] \n",
    "\n",
    "for a in list:\n",
    "    n = list.count(a)\n",
    "\n",
    "    # if the occurrence is more than\n",
    "    # one we add it to the output list\n",
    "    if n > 1:\n",
    "        if new.count(a) == 0: # condition to check\n",
    "            new.append(a)\n",
    "\n",
    "print(\"The elements which occurred more than once is/are: \",new)\n"
   ]
  },
  {
   "cell_type": "code",
   "execution_count": 89,
   "id": "edb44dca",
   "metadata": {},
   "outputs": [
    {
     "name": "stdout",
     "output_type": "stream",
     "text": [
      "Enter the size of the list: 4\n",
      "Enter element 1: 1\n",
      "Enter element 2: 2\n",
      "Enter element 3: 3\n",
      "Enter element 4: 4\n",
      "The entered list is:  [1, 2, 3, 4]\n",
      "The cumulative sum of the list is:  [1, 3, 6, 10]\n"
     ]
    }
   ],
   "source": [
    "#27. Python program to find Cumulative sum of a list\n",
    "\n",
    "listSize = int(input(\"Enter the size of the list: \"))\n",
    "list = []\n",
    "for i in range(listSize):\n",
    "    elements = int(input(f\"Enter element {i + 1}: \"))\n",
    "    list.append(elements)\n",
    "print(\"The entered list is: \",list)\n",
    "\n",
    "new_list=[] \n",
    "j=0\n",
    "for i in range(0,len(list)):\n",
    "    j+=list[i]\n",
    "    new_list.append(j) \n",
    "print (\"The cumulative sum of the list is: \",new_list) \n"
   ]
  },
  {
   "cell_type": "code",
   "execution_count": 92,
   "id": "8ea23a7b",
   "metadata": {},
   "outputs": [
    {
     "name": "stdout",
     "output_type": "stream",
     "text": [
      "Enter the size of the list: 4\n",
      "Enter element 1: 12\n",
      "Enter element 2: 12\n",
      "Enter element 3: 13\n",
      "Enter element 4: 14\n",
      "The entered list is:  [12, 12, 13, 14]\n",
      "The Sum of number digits in List : [3, 3, 4, 5]\n"
     ]
    }
   ],
   "source": [
    "#28. Python | Sum of number digits in List\n",
    "\n",
    "listSize = int(input(\"Enter the size of the list: \"))\n",
    "list = []\n",
    "for i in range(listSize):\n",
    "    elements = int(input(f\"Enter element {i + 1}: \"))\n",
    "    list.append(elements)\n",
    "print(\"The entered list is: \",list)\n",
    "\n",
    "res = []\n",
    "for ele in list:\n",
    "    sum = 0\n",
    "    for digit in str(ele):\n",
    "        sum += int(digit)\n",
    "    res.append(sum)\n",
    "    \n",
    "print (\"The Sum of number digits in List : \" + str(res))\n"
   ]
  },
  {
   "cell_type": "code",
   "execution_count": 107,
   "id": "3df80ee9",
   "metadata": {},
   "outputs": [
    {
     "name": "stdout",
     "output_type": "stream",
     "text": [
      "Enter the size of the list: 4\n",
      "Enter element 1: 1\n",
      "Enter element 2: 2\n",
      "Enter element 3: 3\n",
      "Enter element 4: 4\n",
      "The entered list is:  [1, 2, 3, 4]\n",
      "Enter how many elements each list should have: 2\n",
      "The list after dividing into 2 chuncks is: \n",
      "[1, 2]\n",
      "[3, 4]\n"
     ]
    }
   ],
   "source": [
    "#29. Break a list into chunks of size N in Python\n",
    "\n",
    "listSize = int(input(\"Enter the size of the list: \"))\n",
    "my_list = []\n",
    "for i in range(listSize):\n",
    "    elements = int(input(f\"Enter element {i + 1}: \"))\n",
    "    my_list.append(elements)\n",
    "print(\"The entered list is: \",my_list)\n",
    "\n",
    "\n",
    "start = 0\n",
    "end = len(my_list) \n",
    "step = int(input(\"Enter how many elements each list should have: \"))\n",
    "print(f\"The list after dividing into {step} chuncks is: \")\n",
    "for i in range(start, end, step): \n",
    "    x = i \n",
    "    print(my_list[x:x+step]) "
   ]
  }
 ],
 "metadata": {
  "kernelspec": {
   "display_name": "Python 3 (ipykernel)",
   "language": "python",
   "name": "python3"
  },
  "language_info": {
   "codemirror_mode": {
    "name": "ipython",
    "version": 3
   },
   "file_extension": ".py",
   "mimetype": "text/x-python",
   "name": "python",
   "nbconvert_exporter": "python",
   "pygments_lexer": "ipython3",
   "version": "3.10.9"
  }
 },
 "nbformat": 4,
 "nbformat_minor": 5
}
