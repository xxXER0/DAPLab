{
 "cells": [
  {
   "cell_type": "code",
   "execution_count": 6,
   "id": "2abc2a27",
   "metadata": {},
   "outputs": [
    {
     "name": "stdout",
     "output_type": "stream",
     "text": [
      "[17, 15, 4]\n",
      "[10, 12, 9]\n",
      "[11, 13, 18]\n"
     ]
    }
   ],
   "source": [
    "#1. Python program to add two Matrices\n",
    "\n",
    "X = [[12,7,3],\n",
    "    [4 ,5,6],\n",
    "    [7 ,8,9]]\n",
    "\n",
    "Y = [[5,8,1],\n",
    "    [6,7,3],\n",
    "    [4,5,9]]\n",
    "\n",
    "result = [[0,0,0],\n",
    "         [0,0,0],\n",
    "         [0,0,0]]\n",
    "\n",
    "for i in range(len(X)):\n",
    "    for j in range(len(X[0])):\n",
    "        result[i][j] = X[i][j] + Y[i][j]\n",
    "\n",
    "for r in result:\n",
    "    print(r)\n"
   ]
  },
  {
   "cell_type": "code",
   "execution_count": 10,
   "id": "d7261a2a",
   "metadata": {},
   "outputs": [
    {
     "name": "stdout",
     "output_type": "stream",
     "text": [
      "[114, 160, 60, 27]\n",
      "[74, 97, 73, 14]\n",
      "[119, 157, 112, 23]\n"
     ]
    }
   ],
   "source": [
    "#2. Python program to multiply two matrices\n",
    "\n",
    "X = [[12,7,3],\n",
    "    [4 ,5,6],\n",
    "    [7 ,8,9]]\n",
    "\n",
    "\n",
    "Y = [[5,8,1,2],\n",
    "    [6,7,3,0],\n",
    "    [4,5,9,1]]\n",
    "\n",
    "result = [[0,0,0,0],\n",
    "         [0,0,0,0],\n",
    "         [0,0,0,0]]\n",
    "\n",
    "\n",
    "for i in range(len(X)):\n",
    "    for j in range(len(Y[0])):\n",
    "        for k in range(len(Y)):\n",
    "            result[i][j] += X[i][k] * Y[k][j]\n",
    "\n",
    "for r in result:\n",
    "    print(r)\n"
   ]
  },
  {
   "cell_type": "code",
   "execution_count": 14,
   "id": "d5292cce",
   "metadata": {},
   "outputs": [
    {
     "name": "stdout",
     "output_type": "stream",
     "text": [
      "The resultant matrix is: \n",
      "[114, 160, 60, 27]\n",
      "[74, 97, 73, 14]\n",
      "[119, 157, 112, 23]\n"
     ]
    }
   ],
   "source": [
    "#3. Python program for Matrix Product\n",
    "\n",
    "X = [[12,7,3],\n",
    "    [4 ,5,6],\n",
    "    [7 ,8,9]]\n",
    "\n",
    "Y = [[5,8,1,2],\n",
    "    [6,7,3,0],\n",
    "    [4,5,9,1]]\n",
    "\n",
    "result = [[0,0,0,0],\n",
    "         [0,0,0,0],\n",
    "         [0,0,0,0]]\n",
    "\n",
    "for i in range(len(X)):\n",
    "    for j in range(len(Y[0])):\n",
    "        for k in range(len(Y)):\n",
    "            result[i][j] + = X[i][k] * Y[k][j]\n",
    "\n",
    "print(\"The resultant matrix is: \")\n",
    "for r in result:\n",
    "    print(r)\n"
   ]
  },
  {
   "cell_type": "code",
   "execution_count": 15,
   "id": "9d46c595",
   "metadata": {},
   "outputs": [
    {
     "name": "stdout",
     "output_type": "stream",
     "text": [
      "The resultant matrix after addition is: \n",
      "[17, 15, 4]\n",
      "[10, 12, 9]\n",
      "[11, 13, 18]\n",
      "The resultant matrix after subtraction is: \n",
      "[7, -1, 2]\n",
      "[-2, -2, 3]\n",
      "[3, 3, 0]\n"
     ]
    }
   ],
   "source": [
    "X = [[12,7,3],\n",
    "    [4 ,5,6],\n",
    "    [7 ,8,9]]\n",
    "\n",
    "Y = [[5,8,1],\n",
    "    [6,7,3],\n",
    "    [4,5,9]]\n",
    "\n",
    "result_add = [[0,0,0],\n",
    "         [0,0,0],\n",
    "         [0,0,0]]\n",
    "\n",
    "result_sub = [[0,0,0],\n",
    "         [0,0,0],\n",
    "         [0,0,0]]\n",
    "\n",
    "for i in range(len(X)):\n",
    "    for j in range(len(X[0])):\n",
    "        result_add[i][j] = X[i][j] + Y[i][j]\n",
    "        \n",
    "for i in range(len(X)):\n",
    "    for j in range(len(X[0])):\n",
    "        result_sub[i][j] = X[i][j] - Y[i][j]\n",
    "\n",
    "print(\"The resultant matrix after addition is: \")\n",
    "for r in result_add:\n",
    "    print(r)\n",
    "    \n",
    "print(\"The resultant matrix after subtraction is: \")\n",
    "for r in result_sub:\n",
    "    print(r)"
   ]
  },
  {
   "cell_type": "code",
   "execution_count": 16,
   "id": "2c1739f4",
   "metadata": {},
   "outputs": [
    {
     "name": "stdout",
     "output_type": "stream",
     "text": [
      "[1, 2]\n",
      "[3, 4]\n",
      "[5, 6]\n",
      "\n",
      "\n",
      "[1, 3, 5]\n",
      "[2, 4, 6]\n"
     ]
    }
   ],
   "source": [
    "#5. Transpose a matrix in Single line in Python\n",
    "\n",
    "m = [[1, 2], [3, 4], [5, 6]]\n",
    "for row in m:\n",
    "    print(row)\n",
    "result = [[m[j][i] for j in range(len(m))] for i in range(len(m[0]))]\n",
    "print(\"\\n\")\n",
    "for row in result:\n",
    "    print(row)\n"
   ]
  },
  {
   "cell_type": "code",
   "execution_count": 21,
   "id": "112e6c66",
   "metadata": {},
   "outputs": [
    {
     "name": "stdout",
     "output_type": "stream",
     "text": [
      "Enter the number of rows of the matrix (n): 2\n",
      "Enter the number of columns of the matrix (n): 3\n",
      "Enter values: 1\n",
      "Enter values: 2\n",
      "Enter values: 3\n",
      "Enter values: 4\n",
      "Enter values: 5\n",
      "Enter values: 6\n",
      "['1', '2', '3']\n",
      "['4', '5', '6']\n"
     ]
    }
   ],
   "source": [
    "#6. Python | Matrix creation of n*n\n",
    "\n",
    "r = int(input(\"Enter the number of rows of the matrix (n): \"))\n",
    "c = int(input(\"Enter the number of columns of the matrix (n): \"))\n",
    "\n",
    "matrix = []\n",
    "for i in range(r):\n",
    "    row = []\n",
    "    for j in range(c):\n",
    "        row.append(input(\"Enter values: \"))  \n",
    "    matrix.append(row)\n",
    "\n",
    "for row in matrix:\n",
    "    print(row)\n"
   ]
  },
  {
   "cell_type": "code",
   "execution_count": 28,
   "id": "7bae8669",
   "metadata": {},
   "outputs": [
    {
     "name": "stdout",
     "output_type": "stream",
     "text": [
      "Enter the number of rows of the matrix: 2\n",
      "Enter the number of columns of the matrix: 2\n",
      "Enter value for element at position (1, 1): 1\n",
      "Enter value for element at position (1, 2): 2\n",
      "Enter value for element at position (2, 1): 3\n",
      "Enter value for element at position (2, 2): 4\n",
      "Original Matrix:\n",
      "[1, 2]\n",
      "[3, 4]\n",
      "Enter the value of k (column index): 2\n",
      " 2th column is :\n",
      "2\n",
      "4\n"
     ]
    }
   ],
   "source": [
    "#7. Python | Get Kth Column of Matrix\n",
    "\n",
    "r = int(input(\"Enter the number of rows of the matrix: \"))\n",
    "c = int(input(\"Enter the number of columns of the matrix: \"))\n",
    "\n",
    "matrix = []\n",
    "for i in range(r):\n",
    "    row = []\n",
    "    for j in range(c):\n",
    "        element = int(input(f\"Enter value for element at position ({i + 1}, {j + 1}): \"))\n",
    "        row.append(element)\n",
    "    matrix.append(row)\n",
    "\n",
    "print(\"Original Matrix:\")\n",
    "for row in matrix:\n",
    "    print(row)\n",
    "\n",
    "k = int(input(\"Enter the value of k (column index): \"))\n",
    "\n",
    "kth_column = [row[k-1] for row in matrix]\n",
    "print(f\"{k}th column is :\")\n",
    "for value in kth_column:\n",
    "    print(value)"
   ]
  },
  {
   "cell_type": "code",
   "execution_count": 29,
   "id": "af874d07",
   "metadata": {},
   "outputs": [
    {
     "name": "stdout",
     "output_type": "stream",
     "text": [
      "Enter the number of rows of the matrix: 2\n",
      "Enter the number of columns of the matrix: 2\n",
      "Enter value for element at position (1, 1): 1\n",
      "Enter value for element at position (1, 2): 2\n",
      "Enter value for element at position (2, 1): 3\n",
      "Enter value for element at position (2, 2): 4\n",
      "Original Matrix:\n",
      "['1', '2']\n",
      "['3', '4']\n",
      "Matrix after Vertical Concatenation is:\n",
      "1\n",
      "3\n",
      "2\n",
      "4\n"
     ]
    }
   ],
   "source": [
    "#8. Python – Vertical Concatenation in Matrix\n",
    "\n",
    "r = int(input(\"Enter the number of rows of the matrix: \"))\n",
    "c = int(input(\"Enter the number of columns of the matrix: \"))\n",
    "\n",
    "matrix = []\n",
    "for i in range(r):\n",
    "    row = []\n",
    "    for j in range(c):\n",
    "        element = input(f\"Enter value for element at position ({i + 1}, {j + 1}): \")\n",
    "        row.append(element)\n",
    "    matrix.append(row)\n",
    "\n",
    "print(\"Original Matrix:\")\n",
    "for row in matrix:\n",
    "    print(row)\n",
    "\n",
    "transposed_matrix = list(map(list, zip(*matrix)))\n",
    "\n",
    "vertical_concatenation = []\n",
    "for row in transposed_matrix:\n",
    "    vertical_concatenation.extend(row)\n",
    "\n",
    "print(\"Matrix after Vertical Concatenation is:\")\n",
    "for value in vertical_concatenation:\n",
    "    print(value)\n"
   ]
  },
  {
   "cell_type": "code",
   "execution_count": null,
   "id": "8f416309",
   "metadata": {},
   "outputs": [],
   "source": []
  }
 ],
 "metadata": {
  "kernelspec": {
   "display_name": "Python 3 (ipykernel)",
   "language": "python",
   "name": "python3"
  },
  "language_info": {
   "codemirror_mode": {
    "name": "ipython",
    "version": 3
   },
   "file_extension": ".py",
   "mimetype": "text/x-python",
   "name": "python",
   "nbconvert_exporter": "python",
   "pygments_lexer": "ipython3",
   "version": "3.10.9"
  }
 },
 "nbformat": 4,
 "nbformat_minor": 5
}
